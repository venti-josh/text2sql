{
 "cells": [
  {
   "cell_type": "code",
   "execution_count": 17,
   "metadata": {},
   "outputs": [],
   "source": [
    "import pyodbc\n",
    "\n",
    "\n",
    "DRIVER = \"{ODBC Driver 17 for SQL Server}\"\n",
    "DB_SERVER=\"sit.impacttopline.com,15666\"\n",
    "DB_DATABASE=\"bizfinway_SIT_STG_TechnoPaints\"\n",
    "DB_USER=\"DoDoDev\"\n",
    "DB_PASSWORD=\"Dodo@1234$@\"\n",
    "\n",
    "\n",
    "CONNECTION_STRING = (\n",
    "    f\"DRIVER={DRIVER};\"\n",
    "    f\"SERVER={DB_SERVER};\"\n",
    "    f\"DATABASE={DB_DATABASE};\"\n",
    "    f\"UID={DB_USER};\"\n",
    "    f\"PWD={DB_PASSWORD};\"\n",
    ")\n",
    "\n",
    "conn = pyodbc.connect(CONNECTION_STRING, readonly=True, timeout=60)\n"
   ]
  },
  {
   "cell_type": "code",
   "execution_count": 26,
   "metadata": {},
   "outputs": [],
   "source": [
    "with conn.cursor() as cursor:\n",
    "    cursor.execute(\"select * from SD_CUSTSALES_M\")\n",
    "    columns = cursor.description\n",
    "    rows = cursor.fetchall()"
   ]
  },
  {
   "cell_type": "code",
   "execution_count": 29,
   "metadata": {},
   "outputs": [
    {
     "name": "stderr",
     "output_type": "stream",
     "text": [
      "/var/folders/lp/rvw43y0j5bx417m5_g_zmnf80000gn/T/ipykernel_91784/1191913703.py:3: UserWarning: pandas only supports SQLAlchemy connectable (engine/connection) or database string URI or sqlite3 DBAPI2 connection. Other DBAPI2 objects are not tested. Please consider using SQLAlchemy.\n",
      "  df = pd.read_sql(\"select * from SD_CUSTSALES_M\", conn)\n"
     ]
    }
   ],
   "source": [
    "import pandas as pd\n",
    "\n",
    "df = pd.read_sql(\"select * from SD_CUSTSALES_M\", conn)"
   ]
  },
  {
   "cell_type": "code",
   "execution_count": 31,
   "metadata": {},
   "outputs": [
    {
     "data": {
      "text/plain": [
       "Index(['CUSTOMER_NO', 'SALEORG_CODE', 'DISTCHANNEL_CODE', 'DIVISION_CODE',\n",
       "       'SALESDISTRICT_CODE', 'CUSTOMER_GROUP', 'ABCIND', 'CURRENCY_CODE',\n",
       "       'PRICE_GROUP', 'CUSTPRIC_PROC', 'PRICELIST_TYPE', 'INCO1', 'INCO2',\n",
       "       'DELV_PRIOR', 'SHIPPING_CONDITION', 'DELIVERY_PLANT',\n",
       "       'SALESOFFICE_CODE', 'CREDITLIMIT', 'DISCOUNT', 'CUSTCLASSSALESRATIO',\n",
       "       'CREDITDAYS', 'FREIGHT', 'SEGMENT', 'PRICINGSCHEMA_CODE',\n",
       "       'SALESGROUP_CODE', 'ACTIVE', 'CREATEDBY', 'CREATEDON', 'MODIFIEDBY',\n",
       "       'MODIFIEDON', 'DATATRANSFERFLAG', 'LOCALDATATRANSFERFLAG', 'DEFAULT'],\n",
       "      dtype='object')"
      ]
     },
     "execution_count": 31,
     "metadata": {},
     "output_type": "execute_result"
    }
   ],
   "source": [
    "df"
   ]
  },
  {
   "cell_type": "code",
   "execution_count": 28,
   "metadata": {},
   "outputs": [
    {
     "data": {
      "text/plain": [
       "['CUSTOMER_NO',\n",
       " 'SALEORG_CODE',\n",
       " 'DISTCHANNEL_CODE',\n",
       " 'DIVISION_CODE',\n",
       " 'SALESDISTRICT_CODE',\n",
       " 'CUSTOMER_GROUP',\n",
       " 'ABCIND',\n",
       " 'CURRENCY_CODE',\n",
       " 'PRICE_GROUP',\n",
       " 'CUSTPRIC_PROC',\n",
       " 'PRICELIST_TYPE',\n",
       " 'INCO1',\n",
       " 'INCO2',\n",
       " 'DELV_PRIOR',\n",
       " 'SHIPPING_CONDITION',\n",
       " 'DELIVERY_PLANT',\n",
       " 'SALESOFFICE_CODE',\n",
       " 'CREDITLIMIT',\n",
       " 'DISCOUNT',\n",
       " 'CUSTCLASSSALESRATIO',\n",
       " 'CREDITDAYS',\n",
       " 'FREIGHT',\n",
       " 'SEGMENT',\n",
       " 'PRICINGSCHEMA_CODE',\n",
       " 'SALESGROUP_CODE',\n",
       " 'ACTIVE',\n",
       " 'CREATEDBY',\n",
       " 'CREATEDON',\n",
       " 'MODIFIEDBY',\n",
       " 'MODIFIEDON',\n",
       " 'DATATRANSFERFLAG',\n",
       " 'LOCALDATATRANSFERFLAG',\n",
       " 'DEFAULT']"
      ]
     },
     "execution_count": 28,
     "metadata": {},
     "output_type": "execute_result"
    }
   ],
   "source": [
    "[column[0] for column in columns]"
   ]
  }
 ],
 "metadata": {
  "kernelspec": {
   "display_name": "text2sql-backend",
   "language": "python",
   "name": "python3"
  },
  "language_info": {
   "codemirror_mode": {
    "name": "ipython",
    "version": 3
   },
   "file_extension": ".py",
   "mimetype": "text/x-python",
   "name": "python",
   "nbconvert_exporter": "python",
   "pygments_lexer": "ipython3",
   "version": "3.10.7"
  }
 },
 "nbformat": 4,
 "nbformat_minor": 2
}
